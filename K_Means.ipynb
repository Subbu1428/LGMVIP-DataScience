{
  "nbformat": 4,
  "nbformat_minor": 0,
  "metadata": {
    "colab": {
      "provenance": []
    },
    "kernelspec": {
      "name": "python3",
      "display_name": "Python 3"
    },
    "language_info": {
      "name": "python"
    }
  },
  "cells": [
    {
      "cell_type": "code",
      "execution_count": null,
      "metadata": {
        "id": "qL-M8mQs1E2s"
      },
      "outputs": [],
      "source": [
        "import pandas as pd\n",
        "from sklearn.datasets import load_iris\n",
        "from sklearn.cluster import KMeans\n"
      ]
    },
    {
      "cell_type": "code",
      "source": [
        "data=load_iris()\n"
      ],
      "metadata": {
        "id": "okjqKAFa4z1G"
      },
      "execution_count": null,
      "outputs": []
    },
    {
      "cell_type": "code",
      "source": [
        "values=data.data\n"
      ],
      "metadata": {
        "id": "ZIkDaV2q5YSm"
      },
      "execution_count": null,
      "outputs": []
    },
    {
      "cell_type": "code",
      "source": [
        "target=data.target"
      ],
      "metadata": {
        "id": "IjIjBYVR6Iat"
      },
      "execution_count": null,
      "outputs": []
    },
    {
      "cell_type": "code",
      "source": [
        "print(data.feature_names)"
      ],
      "metadata": {
        "id": "Img2TX6o6ZE9",
        "colab": {
          "base_uri": "https://localhost:8080/"
        },
        "outputId": "3e8797d3-6ffd-42dd-bbfd-5b21cd0208da"
      },
      "execution_count": null,
      "outputs": [
        {
          "output_type": "stream",
          "name": "stdout",
          "text": [
            "['sepal length (cm)', 'sepal width (cm)', 'petal length (cm)', 'petal width (cm)']\n"
          ]
        }
      ]
    },
    {
      "cell_type": "code",
      "source": [
        "print(data.target_names)"
      ],
      "metadata": {
        "colab": {
          "base_uri": "https://localhost:8080/"
        },
        "id": "Id7M-8YHTwZK",
        "outputId": "5ea8e15c-1232-4bf8-fff4-6161dd336717"
      },
      "execution_count": null,
      "outputs": [
        {
          "output_type": "stream",
          "name": "stdout",
          "text": [
            "['setosa' 'versicolor' 'virginica']\n"
          ]
        }
      ]
    },
    {
      "cell_type": "code",
      "source": [
        "km=KMeans(n_clusters=10,init='k-means++')\n",
        "km=km.fit(values)"
      ],
      "metadata": {
        "id": "oMm8Y50tT6Ij"
      },
      "execution_count": null,
      "outputs": []
    },
    {
      "cell_type": "code",
      "source": [
        "print(km.cluster_centers_)\n"
      ],
      "metadata": {
        "colab": {
          "base_uri": "https://localhost:8080/"
        },
        "id": "MX1SrV9pUI0H",
        "outputId": "28d553c0-e315-4cce-939a-601015a0009f"
      },
      "execution_count": null,
      "outputs": [
        {
          "output_type": "stream",
          "name": "stdout",
          "text": [
            "[[6.56818182 3.08636364 5.53636364 2.16363636]\n",
            " [5.07142857 3.5047619  1.53809524 0.28095238]\n",
            " [5.62857143 2.72380952 4.13333333 1.2952381 ]\n",
            " [6.02777778 2.73333333 5.02777778 1.79444444]\n",
            " [5.24285714 2.37142857 3.44285714 1.02857143]\n",
            " [7.6        3.73333333 6.4        2.23333333]\n",
            " [5.49       3.92       1.46       0.26      ]\n",
            " [4.67894737 3.08421053 1.37894737 0.2       ]\n",
            " [7.43333333 2.92222222 6.26666667 1.98888889]\n",
            " [6.43       2.94       4.59       1.435     ]]\n"
          ]
        }
      ]
    },
    {
      "cell_type": "code",
      "source": [
        "print(km.inertia_)"
      ],
      "metadata": {
        "colab": {
          "base_uri": "https://localhost:8080/"
        },
        "id": "kzXJsklrUVQ9",
        "outputId": "3a593282-53f3-4fd6-c3ef-0e7bbe210ce6"
      },
      "execution_count": null,
      "outputs": [
        {
          "output_type": "stream",
          "name": "stdout",
          "text": [
            "26.10410575681628\n"
          ]
        }
      ]
    },
    {
      "cell_type": "code",
      "source": [],
      "metadata": {
        "id": "ZOYrsQ8BUZx5"
      },
      "execution_count": null,
      "outputs": []
    }
  ]
}